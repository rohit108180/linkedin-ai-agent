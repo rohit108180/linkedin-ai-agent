{
 "cells": [
  {
   "cell_type": "code",
   "execution_count": null,
   "id": "f14e9f0a-3079-42f0-85e9-9bf2064ac9d6",
   "metadata": {},
   "outputs": [],
   "source": [
    "# SETUP THE MONGO_CONNECTION\n",
    "from pymongo.mongo_client import MongoClient\n",
    "from pymongo.server_api import ServerApi\n",
    "#!pip install ollama\n",
    "import os\n",
    "from dotenv import load_dotenv\n",
    "# Load environment variables from .env file\n",
    "load_dotenv()\n",
    "\n",
    "uri = \"mongodb://localhost:27017\"\n",
    "cloud_uri = os.getenv(\"MONGO_URI\")\n",
    "\n",
    "# Create a new client and connect to the server\n",
    "local = MongoClient(uri, server_api=ServerApi('1'))\n",
    "cloud = = MongoClient(could_uri, server_api=ServerApi('1'))\n",
    "\n",
    "# Send a ping to confirm a successful connection\n",
    "try:\n",
    "    client.admin.command('ping')\n",
    "    print(\"Pinged your deployment. You successfully connected to MongoDB!\")\n",
    "except Exception as e:\n",
    "    print(e)"
   ]
  }
 ],
 "metadata": {
  "kernelspec": {
   "display_name": "Python 3 (ipykernel)",
   "language": "python",
   "name": "python3"
  },
  "language_info": {
   "codemirror_mode": {
    "name": "ipython",
    "version": 3
   },
   "file_extension": ".py",
   "mimetype": "text/x-python",
   "name": "python",
   "nbconvert_exporter": "python",
   "pygments_lexer": "ipython3",
   "version": "3.10.12"
  }
 },
 "nbformat": 4,
 "nbformat_minor": 5
}
