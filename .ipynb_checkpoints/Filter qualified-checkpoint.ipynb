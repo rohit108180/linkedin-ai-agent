{
 "cells": [
  {
   "cell_type": "code",
   "execution_count": 4,
   "id": "a1933729-8eb4-4f76-bae1-998f6c357946",
   "metadata": {},
   "outputs": [
    {
     "name": "stdout",
     "output_type": "stream",
     "text": [
      "Pinged your deployment. You successfully connected to MongoDB!\n"
     ]
    }
   ],
   "source": [
    "# SETUP THE MONGO_CONNECTION\n",
    "from pymongo.mongo_client import MongoClient\n",
    "from pymongo.server_api import ServerApi\n",
    "import os\n",
    "from dotenv import load_dotenv\n",
    "# Load environment variables from .env file\n",
    "load_dotenv()\n",
    "#!pip install ollama\n",
    "import ollama\n",
    "ollama.pull('llama3.1')\n",
    "mongo_uri = os.getenv('MONGO_URI')\n",
    "# SETUP THE MONGO_CONNECTION\n",
    "uri = mongo_uri if mongo_uri else \"mongodb://localhost:27017\"\n",
    "\n",
    "# Create a new client and connect to the server\n",
    "client = MongoClient(uri, server_api=ServerApi('1'))\n",
    "\n",
    "# Send a ping to confirm a successful connection\n",
    "try:\n",
    "    client.admin.command('ping')\n",
    "    print(\"Pinged your deployment. You successfully connected to MongoDB!\")\n",
    "except Exception as e:\n",
    "    print(e)"
   ]
  },
  {
   "cell_type": "code",
   "execution_count": 18,
   "id": "fd5fcb7b-6083-46e0-9e57-ddaaa1e35327",
   "metadata": {},
   "outputs": [],
   "source": [
    "db = client[\"posts\"]\n",
    "posts_collection = db[\"posts\"]\n"
   ]
  },
  {
   "cell_type": "code",
   "execution_count": 19,
   "id": "95cd691a-574a-4596-83a2-dc011af0abef",
   "metadata": {},
   "outputs": [
    {
     "name": "stdout",
     "output_type": "stream",
     "text": [
      "0\n"
     ]
    }
   ],
   "source": [
    "pending_posts = list(posts_collection.find({\"status\":\"pending\"}))\n",
    "print(len(pending_posts))"
   ]
  },
  {
   "cell_type": "code",
   "execution_count": 14,
   "id": "b7f7257b-72f0-4f42-8e45-18781ccbecfa",
   "metadata": {},
   "outputs": [],
   "source": [
    "PROMT1 = \"You are my social media manager. I will provide you with a post, and you must tell me if it aligns with my interests. Response: You can only reply with either 'yes' or 'no'. Do not include any additional words or sentences. My Interest: I am seeking new opportunities in software development roles, having graduated in 2024 with around 1 year of experience as a full-stack developer (front-end and back-end). I am also interested in roles such as software engineer, web developer, backend engineer, frontend developer, and full-stack engineer. Posts mentioning hiring opportunities, offering referrals, or related to these roles are of the highest interest to me.\"\n",
    "PROMT2 = \"You are my social media manager , i will give you a post and you have to tell me if that post is good for my interest or not. RESPONSE: you can only respond in one word with either 'yes' or 'no', DO NOT ADD ANY OTHER SENTENCE TO IT,  MY INTEREST : I am looking for new opportunites in the software developer and realated  roles,  i passed out in 2024 and i have around 1 year of experience , I am working as a full stack developer and can work on both frontends and back ends, any post which mentions an hiring opportunity or providing reffral are my of AT MOST INTREST\"\n",
    "def isRelevant( query):\n",
    "    if not query :\n",
    "        return False;\n",
    "    stream = ollama.chat(model='llama3.1', messages=[\n",
    "        {\n",
    "            'role': 'system',\n",
    "            'content': PROMT2\n",
    "        },\n",
    "        {\n",
    "            'role': 'user',\n",
    "            'content': \"This is this post\" + query,\n",
    "        }]\n",
    "    )\n",
    "    stream  = stream['message']['content']\n",
    "    response =\"\"\n",
    "    isQualified = stream.lower().find(\"yes\") != -1\n",
    "    print(\"BOT: \", stream)\n",
    "    return isQualified;\n",
    "    \n",
    "\n",
    "\n",
    "    # print( \"\\n Chat line \", chatLine);\n",
    "    # print( \"\\n Chat History\", chatHistory)"
   ]
  },
  {
   "cell_type": "code",
   "execution_count": 15,
   "id": "54513c99-d0ee-4375-940c-48e2434f1226",
   "metadata": {},
   "outputs": [
    {
     "name": "stdout",
     "output_type": "stream",
     "text": [
      "BOT:  no\n",
      "BOT:  No\n",
      "BOT:  no\n",
      "BOT:  No\n",
      "BOT:  No\n",
      "BOT:  no\n",
      "BOT:  no\n",
      "BOT:  no\n",
      "BOT:  No\n",
      "BOT:  no\n",
      "BOT:  No\n",
      "BOT:  No\n",
      "BOT:  No\n",
      "BOT:  No\n",
      "BOT:  No\n",
      "BOT:  no\n",
      "BOT:  no\n",
      "BOT:  no\n",
      "BOT:  No\n",
      "BOT:  No\n",
      "BOT:  no\n",
      "BOT:  No\n",
      "BOT:  no\n",
      "BOT:  No\n",
      "BOT:  No\n",
      "BOT:  No\n",
      "BOT:  No\n",
      "BOT:  No\n",
      "BOT:  no\n",
      "BOT:  No\n",
      "BOT:  no\n",
      "BOT:  Yes.\n",
      "\n",
      " 🚀 We’re Hiring! SDE-1 (Backend) Developer at Uniqus Consultech Inc.🚀Are you passionate about backend development and eager to make a significant impact? Uniqus Consultech Inc. is looking for a talented 𝐒𝐃𝐄-𝟏 𝐁𝐚𝐜𝐤𝐞𝐧𝐝 𝐃𝐞𝐯𝐞𝐥𝐨𝐩𝐞𝐫 to join our dynamic team!As a key player in our engineering department, you'll work on exciting projects, contribute to building scalable systems, and collaborate with cross-functional teams to deliver top-notch solutions. If you're enthusiastic about coding, problem-solving, and innovation, this could be the perfect role for you!𝐖𝐡𝐚𝐭 𝐖𝐞’𝐫𝐞 𝐋𝐨𝐨𝐤𝐢𝐧𝐠 𝐅𝐨𝐫 -- Proficiency in backend programming language - Java.- Understanding of databases (SQL/NoSQL) and RESTful API design.- Strong problem-solving skills and a willingness to learn.𝐖𝐡𝐚𝐭 𝐘𝐨𝐮’𝐥𝐥 𝐃𝐨 -- Develop and maintain backend services that power our products.- Collaborate with frontend developers, designers, and product managers to create seamless experiences.- Optimize applications for maximum speed and scalability.- Write clean, maintainable, and efficient code.Why Uniqus Consultech Inc.?- Work in a fast-paced, innovative environment.- Opportunity for growth and professional development.- Be part of a supportive team that values creativity and initiative.Ready to take the next step in your career? Drop me a DM with your resume.Location - Mumbai Hybrid Set-up.hashtag#hiring hashtag#backenddevelopment hashtag#SDE1 hashtag#developerjobs hashtag#techcareers hashtag#backend hashtag#jobopportunity\n",
      "\n",
      "BOT:  No\n",
      "BOT:  Yes\n",
      "\n",
      " We're Hiring! Join Our Dynamic Team at Ken Research! 🚀Are you ready to take your career to the next level? 🌟 We are seeking passionate and talented individuals to join our growing team of 'Network Engineer & IT Administrator'.If you thrive in a fast-paced environment and are looking for an opportunity to make a real impact, we want to hear from you!Network Engineer & IT Administrator Job DescriptionPosition Overview• Role: Network Engineer & IT Administrator• Location: Ken Research, India• Experience Required: 2-4 yearsPurpose of the RolesThe Network Engineer and IT Administrator positions are cornerstone roles within Ken Research’s IT Department, dedicated to ensuring the integrity, security, and efficiency of the company’s IT infrastructure and services. These roles require a dynamic blend of technical acumen, strategic planning, and operational excellence to support the organization’s technology needs.Key ResponsibilitiesNetwork Engineer Responsibilities1. Network Planning and Design:• Develop and implement a resilient network architecture that supports current and future business needs.• Design and deploy network security measures, including firewalls (e.g., Ruckus, Fortinet, Sophos), intrusion detection systems, and encryption protocols.2. Infrastructure Management:• Oversee the procurement, installation, and maintenance of network hardware and equipment.• Conduct routine hardware and software audits to ensure compliance with established standards and policies.3. Cybersecurity and Compliance:• Lead cybersecurity initiatives, including vulnerability assessments, risk analysis, and the development of disaster recovery plans.• Ensure compliance with data protection regulations, conducting regular compliance audits and updates.4. System Administration:• Manage server configurations, installations, and maintenance across both cloud-based platforms and on-premises data centers.• Oversee the administration of user accounts, permissions, and access control to ensure security and compliance with IT policies.5. Software Management:• Coordinate the selection, deployment, and management of software applications, ensuring they meet the organization’s operational requirements.• Maintain an up-to-date inventory of software licenses, subscriptions, and renewals.6. End-User Support and Training:• Provide comprehensive technical support to end-users, addressing both hardware and software issues promptly.• Develop and deliver IT training programs to staff, enhancing their understanding of systems and applications. 7. Project and Change Management: • Lead IT projects from inception to completion, including system upgrades, migrations, and the deployment of new technologies. • Manage change requests, ensuring minimal disruption to IT services and business operations. Interested Candidate share their cv at jay.sharma@kenresearch.comhashtag#hiring hashtag#ITadmin hashtag#networkenginner hashtag#L1 hashtag#Networkplanning\n",
      "\n",
      "BOT:  no\n",
      "BOT:  No\n",
      "BOT:  No\n",
      "BOT:  no\n",
      "BOT:  No\n",
      "BOT:  no\n",
      "BOT:  No\n",
      "BOT:  YES\n",
      "\n",
      " hashtag#hiringsde hashtag#jobs hashtag#opportunity Ola is hiring ✨ Hi hashtag#connections ,Ola is hiring for Software Engineer role .Location:- Bengaluru Exp :- 1+ yearApply link :- https://lnkd.in/eMU4BKbvFollow here for more such job opportunities and tips:- https://lnkd.in/gbrxwRPRhttps://lnkd.in/g4GnEYC8hashtag#hiringnow hashtag#hiring hashtag#jobs hashtag#jobalerts hashtag#softwaredeveloper hashtag#fullstackdeveloper hashtag#opportunities hashtag#hiringalert hashtag#jobalerts hashtag#frontendjobs hashtag#freshers hashtag#hiringintern hashtag#softwareengineer hashtag#intern hashtag#androiddeveloper\n",
      "\n",
      "BOT:  No\n",
      "BOT:  No\n",
      "BOT:  no\n",
      "BOT:  No\n",
      "BOT:  No\n",
      "BOT:  No\n",
      "BOT:  no\n",
      "BOT:  Yes\n",
      "\n",
      " 🚨Don’t miss out on these internship opportunities! This is only Part 1 (Part 2 coming soon)1️⃣SBI Apprentice Recruitment 2024🧑‍💻Suitable for: Anyone between age limit of 21 to 30 years with a bachelor’s degree🎯Seats: 6000-7000🗓️Selection:  Online written test and a local language proficiency test💰Application fee: INR300‼️Application status: Registrations open on 01.09.2024 (expected)🎖️Stipend: ~INR15,000 per month✅ Steps:Visit the official website of SBI Careers https://lnkd.in/gv4U-_52Search in “Current Openings” >> “ENGAGEMENT OF APPRENTICES UNDER THE APPRENTICES ACT, 1961” >> Apply Online 2️⃣Google student researcher, PhD 2024🧑‍💻Suitable for: PhD students in Computer Science or related field; enrolled in a full time program🎯Seats: Not known🗓️Selection: CV and interview💰Application fee: NIL‼️Application status: Registration open till 23 Aug’2024🎖️Stipend: Not Known✅Steps:Visit https://lnkd.in/gcvtVFwrSelect “Apply” 3️⃣NACO Internship 2024 by Ministry of Health & Family Welfare 🧑‍💻Suitable for: UG (3rd year students) or PG/ Diploma/ PhD students 🎯Seats: 10🗓️Selection:  CV and interview💰Application fee: NIL‼️Application status: Open;🎖️Stipend: INR8000 per month✅Steps:Visit https://naco.gov.in/Under “NACO updates” search https://lnkd.in/gY4jXPxSIn the PDF, go to page 5 for application details 4️⃣NITI Aayog Internship🧑‍💻Suitable for: UG or PG/ Diploma/ PhD students 🎯Seats: Not known🗓️Selection: CV and interview💰Application fee: NIL‼️Application status: Online application link is open from 1-10 of every month🎖️Stipend: Not Known✅Steps:Visit https://lnkd.in/gZSbtTmTRead “Instructions” and fill the application 5️⃣NCCS Department of Telecommunication (DOT) Internship 2024🧑‍💻Suitable for: UG (3rd/ 4th year/ completed degree) or PG (enrolled in a program) students in Electronics/ Communications/ Telecommunication /Radio/ Information Technology/ Computers / Electrical Engineering or related discipline and secured minimum 60% marks🎯Seats: 17🗓️Selection: CV and interview💰Application fee: NIL‼️Application status: Open through year (for every quarter); next opening for October to November’24🎖️Stipend: INR7,500 - 15,000 per month✅Steps:Application form https://lnkd.in/gQK_ytgs ; go to page 9 and onwardsSubmit application and CV to emall ID “adetho.nccs-dot@gov.in” with cc to “directorhq.nccsdot@gov.in”Do not forget to share with your friendshashtag#internship hashtag#growth hashtag#success hashtag#job hashtag#careerGet my personal life sneakpeak: https://lnkd.in/gnF3X84X\n",
      "\n",
      "BOT:  yes\n",
      "\n",
      " Do you need to master all of DSA, AI/ML and Development to land a job now?With the rise of AI, ML, and DSA, I used to feel that too. But if there's one piece of advice that worked for me, it’s this -Stop trying to have every trending skill on your resume and instead focus on mastering one: DSA.Almost every interview I’ve had included coding rounds. While AI/ML can be a great addition, but without a strong foundation in DSA, you might not even make it to the interviews.To help you build that strong foundation in DSA, here are IIIT-Hyderabad alumni who’ve worked with Google, Microsoft, and Amazon who’ll help you master DSA. They’ve also represented India in ACM-ICPC! 🇮🇳They only shortlist top-50 applicants across India, so it’ll also be a peer learning experience like no other.Apply here- https://bit.ly/3yNoTJN hashtag#dsa hashtag#coding hashtag#nirf hashtag#graphs hashtag#dp hashtag#java hashtag#cpp hashtag#software\n",
      "\n",
      "BOT:  no\n",
      "BOT:  No\n",
      "BOT:  Yes\n",
      "\n",
      " IQVIA is hiring! hashtag#ReferralAssociate Software Developer: https://lnkd.in/gEVsWftRDM for a referral or apply directly! Feel free to reach out for any open roles.Qualifications• Bachelor's Degree Computer Science of Engineering or equivalent in experience Req• Experience in RDBMS, SQL, PL/SQL• Experience in shell scripting, Automation using Airflow• Understanding of relational databases and experience with basic SQL querieshashtag#jobs hashtag#opportunity hashtag#iqvia hashtag#sde hashtag#database hashtag#job hashtag#automation hashtag#shell hashtag#scripting hashtag#sql hashtag#dbms\n",
      "\n",
      "BOT:  No\n",
      "BOT:  no\n",
      "BOT:  No\n",
      "BOT:  no\n"
     ]
    }
   ],
   "source": [
    "for post in pending_posts:\n",
    "    isQualified = isRelevant(post[\"feed_text\"])\n",
    "    if isQualified :\n",
    "        post[\"status\"] = \"qualified\"\n",
    "        print(post[\"feed_text\"])\n",
    "    else :\n",
    "        post[\"status\"] = \"unqualified\"\n",
    "    posts_collection.replace_one({\"_id\": post[\"_id\"]}, post)"
   ]
  },
  {
   "cell_type": "code",
   "execution_count": 16,
   "id": "22edc0de-4968-490a-857a-819cdf2583d3",
   "metadata": {},
   "outputs": [],
   "source": [
    "qualified_posts = list(filter(lambda post: post[\"status\"] == \"qualified\", pending_posts))"
   ]
  },
  {
   "cell_type": "code",
   "execution_count": 17,
   "id": "5f02fee3-d9ef-4f13-9dec-0abc047268f0",
   "metadata": {},
   "outputs": [
    {
     "name": "stdout",
     "output_type": "stream",
     "text": [
      "Rohan Patel :  SDE - 2 | Ex - {Amazon, Reliance Jio - Embibe}| DSA | Algorithms | LLD | HLD\n",
      "profile https://www.linkedin.com/in/rohan-patel-5254aa19b?miniProfileUrn=urn%3Ali%3Afsd_profile%3AACoAAC7hkG0BGZciy3HjTanzQjDE0OaDAcEo7mY\n",
      "feed_text \n",
      " 🚀 We’re Hiring! SDE-1 (Backend) Developer at Uniqus Consultech Inc.🚀Are you passionate about backend development and eager to make a significant impact? Uniqus Consultech Inc. is looking for a talented 𝐒𝐃𝐄-𝟏 𝐁𝐚𝐜𝐤𝐞𝐧𝐝 𝐃𝐞𝐯𝐞𝐥𝐨𝐩𝐞𝐫 to join our dynamic team!As a key player in our engineering department, you'll work on exciting projects, contribute to building scalable systems, and collaborate with cross-functional teams to deliver top-notch solutions. If you're enthusiastic about coding, problem-solving, and innovation, this could be the perfect role for you!𝐖𝐡𝐚𝐭 𝐖𝐞’𝐫𝐞 𝐋𝐨𝐨𝐤𝐢𝐧𝐠 𝐅𝐨𝐫 -- Proficiency in backend programming language - Java.- Understanding of databases (SQL/NoSQL) and RESTful API design.- Strong problem-solving skills and a willingness to learn.𝐖𝐡𝐚𝐭 𝐘𝐨𝐮’𝐥𝐥 𝐃𝐨 -- Develop and maintain backend services that power our products.- Collaborate with frontend developers, designers, and product managers to create seamless experiences.- Optimize applications for maximum speed and scalability.- Write clean, maintainable, and efficient code.Why Uniqus Consultech Inc.?- Work in a fast-paced, innovative environment.- Opportunity for growth and professional development.- Be part of a supportive team that values creativity and initiative.Ready to take the next step in your career? Drop me a DM with your resume.Location - Mumbai Hybrid Set-up.hashtag#hiring hashtag#backenddevelopment hashtag#SDE1 hashtag#developerjobs hashtag#techcareers hashtag#backend hashtag#jobopportunity\n",
      "\n",
      "href {'Uniqus Consultech Inc.': 'https://www.linkedin.com/company/uniqus-consultech/'}\n",
      "\n",
      "\n",
      "Jay Sharma :  Talent Acquisition Specialist at Ken Research\n",
      "profile https://www.linkedin.com/in/jay-sharma-b14060236?miniProfileUrn=urn%3Ali%3Afsd_profile%3AACoAADq9jEABRm6JQzxu8p1CsMo1Ph7pHZ44x-M\n",
      "feed_text \n",
      " We're Hiring! Join Our Dynamic Team at Ken Research! 🚀Are you ready to take your career to the next level? 🌟 We are seeking passionate and talented individuals to join our growing team of 'Network Engineer & IT Administrator'.If you thrive in a fast-paced environment and are looking for an opportunity to make a real impact, we want to hear from you!Network Engineer & IT Administrator Job DescriptionPosition Overview• Role: Network Engineer & IT Administrator• Location: Ken Research, India• Experience Required: 2-4 yearsPurpose of the RolesThe Network Engineer and IT Administrator positions are cornerstone roles within Ken Research’s IT Department, dedicated to ensuring the integrity, security, and efficiency of the company’s IT infrastructure and services. These roles require a dynamic blend of technical acumen, strategic planning, and operational excellence to support the organization’s technology needs.Key ResponsibilitiesNetwork Engineer Responsibilities1. Network Planning and Design:• Develop and implement a resilient network architecture that supports current and future business needs.• Design and deploy network security measures, including firewalls (e.g., Ruckus, Fortinet, Sophos), intrusion detection systems, and encryption protocols.2. Infrastructure Management:• Oversee the procurement, installation, and maintenance of network hardware and equipment.• Conduct routine hardware and software audits to ensure compliance with established standards and policies.3. Cybersecurity and Compliance:• Lead cybersecurity initiatives, including vulnerability assessments, risk analysis, and the development of disaster recovery plans.• Ensure compliance with data protection regulations, conducting regular compliance audits and updates.4. System Administration:• Manage server configurations, installations, and maintenance across both cloud-based platforms and on-premises data centers.• Oversee the administration of user accounts, permissions, and access control to ensure security and compliance with IT policies.5. Software Management:• Coordinate the selection, deployment, and management of software applications, ensuring they meet the organization’s operational requirements.• Maintain an up-to-date inventory of software licenses, subscriptions, and renewals.6. End-User Support and Training:• Provide comprehensive technical support to end-users, addressing both hardware and software issues promptly.• Develop and deliver IT training programs to staff, enhancing their understanding of systems and applications. 7. Project and Change Management: • Lead IT projects from inception to completion, including system upgrades, migrations, and the deployment of new technologies. • Manage change requests, ensuring minimal disruption to IT services and business operations. Interested Candidate share their cv at jay.sharma@kenresearch.comhashtag#hiring hashtag#ITadmin hashtag#networkenginner hashtag#L1 hashtag#Networkplanning\n",
      "\n",
      "href {'jay.sharma@kenresearch.com': 'mailto:jay.sharma@kenresearch.com'}\n",
      "\n",
      "\n",
      "Himanshi Paliwal :  DAA at ZS | EX - SDE-2 at Walmart Global Tech India\n",
      "profile https://www.linkedin.com/in/himanshipaliwal?miniProfileUrn=urn%3Ali%3Afsd_profile%3AACoAAChasEYB6jdFMjiu3hQ3GbjDygAUNvyFssQ\n",
      "feed_text \n",
      " hashtag#hiringsde hashtag#jobs hashtag#opportunity Ola is hiring ✨ Hi hashtag#connections ,Ola is hiring for Software Engineer role .Location:- Bengaluru Exp :- 1+ yearApply link :- https://lnkd.in/eMU4BKbvFollow here for more such job opportunities and tips:- https://lnkd.in/gbrxwRPRhttps://lnkd.in/g4GnEYC8hashtag#hiringnow hashtag#hiring hashtag#jobs hashtag#jobalerts hashtag#softwaredeveloper hashtag#fullstackdeveloper hashtag#opportunities hashtag#hiringalert hashtag#jobalerts hashtag#frontendjobs hashtag#freshers hashtag#hiringintern hashtag#softwareengineer hashtag#intern hashtag#androiddeveloper\n",
      "\n",
      "href {'Ola': 'https://www.linkedin.com/company/olacabs-com/', 'https://lnkd.in/eMU4BKbv': 'https://lnkd.in/eMU4BKbv', 'https://lnkd.in/gbrxwRPR': 'https://lnkd.in/gbrxwRPR', 'https://lnkd.in/g4GnEYC8': 'https://lnkd.in/g4GnEYC8'}\n",
      "\n",
      "\n",
      "akanksha C. :  Engagement Manager, McKinsey & Co. | IIMA | SRCC\n",
      "profile https://www.linkedin.com/in/akanksha-c-411549a5?miniProfileUrn=urn%3Ali%3Afsd_profile%3AACoAABZTzw0BDT-zhNxOPuslHvqehEF5GyN1nfk\n",
      "feed_text \n",
      " 🚨Don’t miss out on these internship opportunities! This is only Part 1 (Part 2 coming soon)1️⃣SBI Apprentice Recruitment 2024🧑‍💻Suitable for: Anyone between age limit of 21 to 30 years with a bachelor’s degree🎯Seats: 6000-7000🗓️Selection:  Online written test and a local language proficiency test💰Application fee: INR300‼️Application status: Registrations open on 01.09.2024 (expected)🎖️Stipend: ~INR15,000 per month✅ Steps:Visit the official website of SBI Careers https://lnkd.in/gv4U-_52Search in “Current Openings” >> “ENGAGEMENT OF APPRENTICES UNDER THE APPRENTICES ACT, 1961” >> Apply Online 2️⃣Google student researcher, PhD 2024🧑‍💻Suitable for: PhD students in Computer Science or related field; enrolled in a full time program🎯Seats: Not known🗓️Selection: CV and interview💰Application fee: NIL‼️Application status: Registration open till 23 Aug’2024🎖️Stipend: Not Known✅Steps:Visit https://lnkd.in/gcvtVFwrSelect “Apply” 3️⃣NACO Internship 2024 by Ministry of Health & Family Welfare 🧑‍💻Suitable for: UG (3rd year students) or PG/ Diploma/ PhD students 🎯Seats: 10🗓️Selection:  CV and interview💰Application fee: NIL‼️Application status: Open;🎖️Stipend: INR8000 per month✅Steps:Visit https://naco.gov.in/Under “NACO updates” search https://lnkd.in/gY4jXPxSIn the PDF, go to page 5 for application details 4️⃣NITI Aayog Internship🧑‍💻Suitable for: UG or PG/ Diploma/ PhD students 🎯Seats: Not known🗓️Selection: CV and interview💰Application fee: NIL‼️Application status: Online application link is open from 1-10 of every month🎖️Stipend: Not Known✅Steps:Visit https://lnkd.in/gZSbtTmTRead “Instructions” and fill the application 5️⃣NCCS Department of Telecommunication (DOT) Internship 2024🧑‍💻Suitable for: UG (3rd/ 4th year/ completed degree) or PG (enrolled in a program) students in Electronics/ Communications/ Telecommunication /Radio/ Information Technology/ Computers / Electrical Engineering or related discipline and secured minimum 60% marks🎯Seats: 17🗓️Selection: CV and interview💰Application fee: NIL‼️Application status: Open through year (for every quarter); next opening for October to November’24🎖️Stipend: INR7,500 - 15,000 per month✅Steps:Application form https://lnkd.in/gQK_ytgs ; go to page 9 and onwardsSubmit application and CV to emall ID “adetho.nccs-dot@gov.in” with cc to “directorhq.nccsdot@gov.in”Do not forget to share with your friendshashtag#internship hashtag#growth hashtag#success hashtag#job hashtag#careerGet my personal life sneakpeak: https://lnkd.in/gnF3X84X\n",
      "\n",
      "href {'https://lnkd.in/gv4U-_52': 'https://lnkd.in/gv4U-_52', 'https://lnkd.in/gcvtVFwr': 'https://lnkd.in/gcvtVFwr', 'https://naco.gov.in/': 'https://naco.gov.in/', 'https://lnkd.in/gY4jXPxS': 'https://lnkd.in/gY4jXPxS', 'https://lnkd.in/gZSbtTmT': 'https://lnkd.in/gZSbtTmT', 'https://lnkd.in/gQK_ytgs': 'https://lnkd.in/gQK_ytgs', 'adetho.nccs-dot@gov.in': 'mailto:adetho.nccs-dot@gov.in', 'directorhq.nccsdot@gov.in': 'mailto:directorhq.nccsdot@gov.in', 'https://lnkd.in/gnF3X84X': 'https://lnkd.in/gnF3X84X'}\n",
      "\n",
      "\n",
      "Garvit Rajput :  Software Engineer @Moengage | Ex- @Amazon | 70k+ Fam | Mentor | Instructor | Code, Content, TechHumour & Life lessons\n",
      "profile https://www.linkedin.com/in/garvit17?miniProfileUrn=urn%3Ali%3Afsd_profile%3AACoAACWlgL0BR-PdFmJsvv-0l5zqJtl1OQ6Zs0s\n",
      "feed_text \n",
      " Do you need to master all of DSA, AI/ML and Development to land a job now?With the rise of AI, ML, and DSA, I used to feel that too. But if there's one piece of advice that worked for me, it’s this -Stop trying to have every trending skill on your resume and instead focus on mastering one: DSA.Almost every interview I’ve had included coding rounds. While AI/ML can be a great addition, but without a strong foundation in DSA, you might not even make it to the interviews.To help you build that strong foundation in DSA, here are IIIT-Hyderabad alumni who’ve worked with Google, Microsoft, and Amazon who’ll help you master DSA. They’ve also represented India in ACM-ICPC! 🇮🇳They only shortlist top-50 applicants across India, so it’ll also be a peer learning experience like no other.Apply here- https://bit.ly/3yNoTJN hashtag#dsa hashtag#coding hashtag#nirf hashtag#graphs hashtag#dp hashtag#java hashtag#cpp hashtag#software\n",
      "\n",
      "href {'https://bit.ly/3yNoTJN': 'https://bit.ly/3yNoTJN'}\n",
      "\n",
      "\n",
      "Gursimar Singh :  Google Developers Educator, Author @ freeCodeCamp, Speaker, Consultant, Mentor, DevOps & Cloud\n",
      "profile https://www.linkedin.com/in/gursimarsm?miniProfileUrn=urn%3Ali%3Afsd_profile%3AACoAADHXM4UBtkjZfiVoQjGSg8afCrDTOA_oJRc\n",
      "feed_text \n",
      " IQVIA is hiring! hashtag#ReferralAssociate Software Developer: https://lnkd.in/gEVsWftRDM for a referral or apply directly! Feel free to reach out for any open roles.Qualifications• Bachelor's Degree Computer Science of Engineering or equivalent in experience Req• Experience in RDBMS, SQL, PL/SQL• Experience in shell scripting, Automation using Airflow• Understanding of relational databases and experience with basic SQL querieshashtag#jobs hashtag#opportunity hashtag#iqvia hashtag#sde hashtag#database hashtag#job hashtag#automation hashtag#shell hashtag#scripting hashtag#sql hashtag#dbms\n",
      "\n",
      "href {'IQVIA': 'https://www.linkedin.com/company/iqvia/', 'https://lnkd.in/gEVsWftR': 'https://lnkd.in/gEVsWftR'}\n",
      "\n",
      "\n"
     ]
    }
   ],
   "source": [
    "for post in qualified_posts:\n",
    "    print(post[\"poster\"] +  \" :  \"  + post[\"poster_bio\"]) \n",
    "    print(\"profile\" , post[\"profile\"]);\n",
    "    print(\"feed_text\" , post[\"feed_text\"])  if post else post\n",
    "    print(\"href\",post[\"href_map\"])\n",
    "    print(\"\\n\")"
   ]
  },
  {
   "cell_type": "code",
   "execution_count": null,
   "id": "bf27e7eb-37ae-44dc-ae38-a9da5b7a5f80",
   "metadata": {},
   "outputs": [],
   "source": []
  }
 ],
 "metadata": {
  "kernelspec": {
   "display_name": "Python 3 (ipykernel)",
   "language": "python",
   "name": "python3"
  },
  "language_info": {
   "codemirror_mode": {
    "name": "ipython",
    "version": 3
   },
   "file_extension": ".py",
   "mimetype": "text/x-python",
   "name": "python",
   "nbconvert_exporter": "python",
   "pygments_lexer": "ipython3",
   "version": "3.10.12"
  }
 },
 "nbformat": 4,
 "nbformat_minor": 5
}
