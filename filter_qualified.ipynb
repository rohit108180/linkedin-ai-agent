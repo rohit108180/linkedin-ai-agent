{
 "cells": [
  {
   "cell_type": "code",
   "execution_count": 3,
   "id": "a1933729-8eb4-4f76-bae1-998f6c357946",
   "metadata": {},
   "outputs": [
    {
     "name": "stdout",
     "output_type": "stream",
     "text": [
      "Pinged your deployment. You successfully connected to MongoDB!\n"
     ]
    }
   ],
   "source": [
    "# SETUP THE MONGO_CONNECTION\n",
    "from pymongo.mongo_client import MongoClient\n",
    "from pymongo.server_api import ServerApi\n",
    "import os\n",
    "from dotenv import load_dotenv\n",
    "# Load environment variables from .env file\n",
    "load_dotenv()\n",
    "from groq import Groq\n",
    "client = Groq(\n",
    "    # This is the default and can be omitted\n",
    "    api_key=os.environ.get(\"GROQ_API_KEY\"),\n",
    ")\n",
    "\n",
    "mongo_uri = os.getenv('MONGO_URI')\n",
    "# SETUP THE MONGO_CONNECTION\n",
    "uri = mongo_uri if mongo_uri else \"mongodb://localhost:27017\"\n",
    "\n",
    "# Create a new client and connect to the server\n",
    "client = MongoClient(uri, server_api=ServerApi('1'))\n",
    "\n",
    "# Send a ping to confirm a successful connection\n",
    "try:\n",
    "    client.admin.command('ping')\n",
    "    print(\"Pinged your deployment. You successfully connected to MongoDB!\")\n",
    "except Exception as e:\n",
    "    print(e)"
   ]
  },
  {
   "cell_type": "code",
   "execution_count": 4,
   "id": "fd5fcb7b-6083-46e0-9e57-ddaaa1e35327",
   "metadata": {},
   "outputs": [],
   "source": [
    "db = client[\"posts\"]\n",
    "posts_collection = db[\"posts\"]\n"
   ]
  },
  {
   "cell_type": "code",
   "execution_count": 77,
   "id": "51be2cac-95aa-4b46-ab33-26c497502263",
   "metadata": {},
   "outputs": [],
   "source": [
    "PROMT1 = \"You are my social media manager. I will provide you with a post, and you must tell me if it aligns with my interests. Response: You can only reply with either 'yes' or 'no'. Do not include any additional words or sentences. My Interest: I am seeking new opportunities in software development roles, having graduated in 2024 with around 1 year of experience as a full-stack developer (front-end and back-end). I am also interested in roles such as software engineer, web developer, backend engineer, frontend developer, and full-stack engineer. Posts mentioning hiring opportunities, offering referrals, or related to these roles are of the highest interest to me.\"\n",
    "PROMT2 = \"You are my social media manager , i will give you a post and you have to tell me if that post is good for my interest or not. RESPONSE: you can only respond in one word with either 'yes' or 'no',  MY INTEREST : I am looking for new opportunites in the software engineer, backend engineer, frontend developer,full-stack engineer and related roles,  i passed out in 2024 from a Tier 1 college and i have around 1 year of experience but i can take an opportunity if it is for freshers, I am working as a softwa developer and can work on both frontends and back ends, any post which mentions an hiring opportunity or providing reffral are my of AT MOST INTEREST, Also provide the reason if you are answering with no and think this post is not relevant to me.\""
   ]
  },
  {
   "cell_type": "code",
   "execution_count": 78,
   "id": "fd54bda9-dfba-4b4c-b599-5a372090b0e6",
   "metadata": {},
   "outputs": [],
   "source": [
    "# !pip install groq\n",
    "\n",
    "def isRelevant( query, prompt = PROMT2, temp = 1):\n",
    "    if not query :\n",
    "        return False;\n",
    "    chat_completion = client.chat.completions.create(messages=[\n",
    "        {\n",
    "            'role': 'system',\n",
    "            'content': prompt if prompt else PROMT2\n",
    "        },\n",
    "        {\n",
    "            'role': 'user',\n",
    "            'content': \"This is this post\" + query,\n",
    "        }],\n",
    "        model=\"llama-3.1-70b-versatile\",\n",
    "        temperature=temp,\n",
    "        top_p=1,\n",
    "        stream=False,\n",
    "        stop=None,\n",
    "    )\n",
    "    stream  = chat_completion.choices[0].message.content\n",
    "    response =\"\"\n",
    "    isQualified = stream.lower().find(\"yes\") != -1\n",
    "    print(\"BOT: \", stream)\n",
    "    return isQualified;"
   ]
  },
  {
   "cell_type": "code",
   "execution_count": 79,
   "id": "b7f7257b-72f0-4f42-8e45-18781ccbecfa",
   "metadata": {},
   "outputs": [],
   "source": [
    "# #!pip install ollama\n",
    "# import ollama\n",
    "# # ollama.pull('llama3.1')\n",
    "\n",
    "# def isRelevant( query):\n",
    "#     if not query :\n",
    "#         return False;\n",
    "#     stream = ollama.chat(model='llama3.1', messages=[\n",
    "#         {\n",
    "#             'role': 'system',\n",
    "#             'content': PROMT2\n",
    "#         },\n",
    "#         {\n",
    "#             'role': 'user',\n",
    "#             'content': \"This is this post\" + query,\n",
    "#         }]\n",
    "#     )\n",
    "#     stream  = stream['message']['content']\n",
    "#     response =\"\"\n",
    "#     isQualified = stream.lower().find(\"yes\") != -1\n",
    "#     print(\"BOT: \", stream)\n",
    "#     return isQualified;\n",
    "    \n",
    "\n",
    "\n",
    "#     # print( \"\\n Chat line \", chatLine);\n",
    "#     # print( \"\\n Chat History\", chatHistory)"
   ]
  },
  {
   "cell_type": "code",
   "execution_count": 82,
   "id": "95cd691a-574a-4596-83a2-dc011af0abef",
   "metadata": {},
   "outputs": [
    {
     "name": "stdout",
     "output_type": "stream",
     "text": [
      "43\n"
     ]
    }
   ],
   "source": [
    "fetchStatus= \"qualified\"\n",
    "pending_posts = list(posts_collection.find({\"status\": fetchStatus}))\n",
    "print(len(pending_posts))\n",
    "pending_posts = pending_posts[0:100];"
   ]
  },
  {
   "cell_type": "code",
   "execution_count": 83,
   "id": "54513c99-d0ee-4375-940c-48e2434f1226",
   "metadata": {},
   "outputs": [
    {
     "name": "stdin",
     "output_type": "stream",
     "text": [
      "Do you want to save \n"
     ]
    },
    {
     "name": "stdout",
     "output_type": "stream",
     "text": [
      "BOT:  Yes.\n",
      "BOT:  Yes\n",
      "BOT:  Yes.\n",
      "BOT:  No\n",
      "\n",
      " FREE Online Courses with Certificates from Google, IBM and Meta.Here are  courses you don't want to miss:No Payment required ✅𝐈𝐁𝐌 𝐖𝐞𝐛 𝐃𝐞𝐯𝐞𝐥𝐨𝐩𝐦𝐞𝐧𝐭 𝐂𝐨𝐮𝐫𝐬𝐞𝐬🪢 7000+ Course Free Access : https://lnkd.in/gq3M4Uv4 Google Data Analytics:🔗 https://lnkd.in/gicCppmv1. IBM Full Stack Software Developer Professional Certificate🪢 https://lnkd.in/g9WC2vx42. Introduction to Web Development with HTML, CSS, JavaScript🔗 https://lnkd.in/g5kZJZMP3. IBM Front-End Developer Professional Certificate🪢 https://lnkd.in/gr8TRSe94. IBM Back-End Development Professional Certificate🔗 https://lnkd.in/gmrFgqxv5. IBM Python for Data Science, AI & Development🪢 https://lnkd.in/gi5N-RVd6. IBM Developing Cloud Apps with Node.js and React🔗 https://lnkd.in/gi5N-RVd𝐌𝐞𝐭𝐚 𝐖𝐞𝐛 𝐃𝐞𝐯𝐞𝐥𝐨𝐩𝐦𝐞𝐧𝐭 𝐂𝐨𝐮𝐫𝐬𝐞𝐬1. Meta Front-End Developer Professional Certificate🪢https://lnkd.in/gTsXkCiF2. Meta React Native Specialization🔗 https://lnkd.in/gnrnqiTH3. Introduction to Front-End Development🪢 https://lnkd.in/ghPffMmm4. Meta HTML and CSS in depth🔗 https://lnkd.in/gQSPavSq5. Advanced React🪢 https://lnkd.in/grfBP3fp6. HTML, CSS, and Javascript for Web Developers🔗 https://lnkd.in/gavPwweW7. Web Design for Everybody: Basics of Web Development & Coding Specialization🪢 https://lnkd.in/gtufubrN8. Introduction to Web Development🔗 https://lnkd.in/gC68-QuW9. Responsive Website Development and Design Specialization🪢 https://lnkd.in/g5Yy--yF10. Full Stack Web Development en Español Specialization🔗 https://lnkd.in/gYSpc8YA11. Web Applications for Everybody Specialization🪢 https://lnkd.in/g72pyFcVCredit: Respective owner hashtag#meta hashtag#webdevelopment hashtag#freecourses hashtag#frontenddeveloper\n",
      "\n",
      "BOT:  Yes\n",
      "BOT:  Yes\n",
      "BOT:  Yes.\n",
      "BOT:  YES.\n",
      "BOT:  Yes\n",
      "BOT:  Yes\n",
      "BOT:  Yes\n",
      "BOT:  No \n",
      "\n",
      "Reason: The post is about internship opportunities, but you mentioned you have around 1 year of experience and are currently working as a software developer. These opportunities might not be suitable for someone with your level of experience.\n",
      "\n",
      " Remote Internship Alert @ Work Wise Nexus🚨List of Companies Hiring Remote Interns this week! 👇🏻1) Lokal |Bangalore, India | Software Developer InternsStipend: Rs. ₹ 30K - 35K / Month 💵Skills: Kotlin, Java, Native AndroidDuration: 6 Months (starting date: Immediate)2) Blockly Technologies Pvt. Ltd | Nashik | Frontend Developer InternsStipend: Rs. ₹ 25K - 30K / Month 💵Skills: HTML, CSS, JavaScript, React.jsDuration: 3 Months (starting date: Immediate)3) Fog Solutions | Surat, India | Full stack Developer InternsStipend: Rs. ₹ 20K - 25K / Month 💵Skills: React.js, JavaScript, NodeJS, MongoDBDuration: 3 Months (starting date: Immediate)4) RoundTechSquare | Vadodara | Backend Developer InternsStipend: Rs. ₹ 15K - 20K / Month 💵Skills: Nodejs, ExpressJs, MongoDB, NestJSDuration: 3-6 Months (starting date: Immediate)Comment “Interested” & I’ll DM you the link. ✅Follow Work Wise Nexus for Daily Freshers Job/Interns Openings! 🚩hashtag#RemoteInternship hashtag#SoftwareDeveloperIntern hashtag#FrontendDeveloperIntern hashtag#BackendDeveloperIntern hashtag#FullStackDeveloperIntern hashtag#FresherJobs hashtag#InternshipAlert hashtag#TechInternships hashtag#WorkFromHome hashtag#DeveloperJobs hashtag#EntryLevelJobs hashtag#CareerStart hashtag#InternshipOpportunity hashtag#Internship2024 hashtag#HiringFreshers hashtag#CodingInternship hashtag#SoftwareIntern hashtag#ITInternship hashtag#RemoteWork hashtag#CareerGrowth hashtag#JobSearch hashtag#FreshGradJobs hashtag#TechCareers hashtag#JuniorDeveloper hashtag#RemoteWorkCulture hashtag#CareerOpportunities hashtag#CodingJobs hashtag#DeveloperCareers hashtag#InternshipProgram hashtag#JobHunt hashtag#JobOpportunity hashtag#TechJobs hashtag#InternHiring hashtag#RemoteJobs hashtag#GraduateJobs hashtag#TechTalent hashtag#RemoteCareer hashtag#FreshersHiring hashtag#DeveloperInternship hashtag#EngineeringJobs hashtag#RemotePositions hashtag#CareerDevelopment hashtag#CareerKickstart hashtag#CodingOpportunities hashtag#JobOpening hashtag#InternOpportunities hashtag#InternshipSearch hashtag#RemoteInternship2024 hashtag#WorkFromAnywhere hashtag#InternshipExperience hashtag#RemoteWorkLife hashtag#RemoteHiring hashtag#FresherOpportunities hashtag#SoftwareJobs hashtag#CareerPath hashtag#WorkFromHomeJobs hashtag#TechOpportunities hashtag#FutureOfWork hashtag#RemoteCareerPath hashtag#ITCareer hashtag#StartYourCareer hashtag#DeveloperIntern hashtag#FreshersOpportunities\n",
      "\n",
      "BOT:  No \n",
      " Reason : Although this post talks about job opportunities through job fairs and provides some recruitment chances. Since it mainly seems focused towards the final year students of Tier 1 or any college in the sense, mostly applicable to a job for those having an ongoing batch looking to getting place rather  who passed in the same year (2024)\n",
      "\n",
      " Getting OFFCAMPUS placement through Job Fairs is another thing that you should consider in 2024.Odoo is conducting India’s biggest Tech and Business event on 23-24th August where you get to learn, network and meet with like minded folks and business leaders.The special part is they are having a Job Fair for students where you get Placement Opportunities, 150+ informative sessions and network with 50+ universities.More than 360+ partner companies of Odoo will be there with whom you can connect directly.Recruitment Team at Odoo will also be available from 9 AM to 6 PM. This can be a great opportunity if you are looking for an Internship or a Placement Opportunity to be at the event and its completely FREE.You also get a chance to explore Odoo Lab, to understand business requirements using real life business cases.Dates : 23rd and 24th August 2024Timing : 10 AM to 6 PMLink to register in the event is in the first comment, go register today.hashtag#odoo hashtag#communitydays hashtag#jobfair hashtag#ocd2024\n",
      "\n",
      "BOT:  yes\n",
      "BOT:  Yes\n",
      "BOT:  Yes\n",
      "BOT:  Yes\n",
      "BOT:  Yes\n",
      "BOT:  yes.\n",
      "BOT:  no \n",
      "The post mentions SDE internship, but with batches of 2023, 2024. There are two more posts of internship, which mentions the batch 2025 and 2026 which seems it is more targeted to junior.\n",
      "\n",
      " Plane is hiring for SDE Internship - FrontendBatch: 2023, 2024Internship Duration: 6 monthsStipend: 17,000 - 30,000 /MonthApply here: https://lnkd.in/gc5xZuybMemorly.AI is hiring for Full-Stack Engineer InternshipBatch: 2025, 2026Stipend: 20,000 /MonthApply here: https://lnkd.in/gptrtZ26@Happieloop is hiring for Full-Stack Developer InternshipBatch: 2025, 2026Stipend: 15,000 - 20,000 /MonthApply here: https://lnkd.in/g2a-SFaPComment hashtag#interested for better Reach...hashtag#placements hashtag#hiringdevelopers hashtag#developer hashtag#frontend hashtag#intern hashtag#softwaredeveloper hashtag#softwareengineer hashtag#backend\n",
      "\n",
      "BOT:  Yes\n",
      "BOT:  Yes\n",
      "BOT:  Yes\n",
      "BOT:  No \n",
      "\n",
      "Reason: The post is for internship opportunities, and you have around 1 year of experience and are looking for full-time roles.\n",
      "\n",
      " We are Hiring hashtag#Interns for following roles..if anyone interested can comment below their email address..1. web developer2. Android developer3. Java developer4. Graphics designer5. C++ Programmer6. Ai Engineer (2nd - final yr )7. Machine learning Trainee8. Python developerBe quick we will stop recruitment after our 8 vacancies got filledfill out this form for 6 month internship : https://lnkd.in/d82_248iThankyou,Regards CP Geeks\n",
      "\n",
      "BOT:  No \n",
      "\n",
      "Reason: The post is for a Data Analytics role, which does not match your interests in software engineer, backend engineer, frontend developer, or full-stack engineer roles.\n",
      "\n",
      " American Express is hiring for Analyst - Data Analytics Experience: 1-3 Application Link: https://lnkd.in/gNM7uf7jReach out to Amex Employees for Referrals!\n",
      "\n",
      "BOT:  Yes\n",
      "BOT:  Yes\n",
      "BOT:  Yes\n",
      "BOT:  yes\n",
      "BOT:  yes\n",
      "BOT:  no\n",
      "\n",
      "reason: Although this post provides useful information on unit testing and is relevant to the software development field, it doesn't directly provide an opportunity or offer for backend, frontend, full-stack engineering or software developer positions which align with your main interest of getting hiring opportunity\n",
      "\n",
      " صديقى المبرمج ركز معايا علشان هديك شوية معلومات فى البوست دا حلوه جدا بخصوص ال unit testing - احنا عندنا ٣ انواع من ال test process اللى نقدر نعملها على الكود علشان ن make sure انه شغال كويس وبي act as needed وهما 1/ manual testودا انك test عادى كده بايدك وتتاكد ان كل حاجه شغال على سبيل المثال لو عندك login screen فاانت هتتاكد لما تدخل ال mail and password وتدوس على ال login button فهيحصل login او هيرجع error لو ال data غلط 2/ integration testوهنا هتعمل test ل module كامل زى مثلا ال authentication module زى ال login, register, forget password انهم شغالين ولا لا 3/ unit test وهما هنعمل test لجزء صغير من الكود وليكن function  ونشوف هى شغاله زى مااحنا متوقعين ولا لا يلا ن go through فى ال unit test شويه - ليه اكتب unit test ؟ علشان بنقدر من خلالها اننا نعمل test لكل حتة صغيره فى الكود وليكن هعمل تيست لكل function واتاكد انها شغال زى ماانا عاوز فدا بيجبرنا اننا نقسم الكود بتاعنا ل small pieces ونفصل ال pieces عن بعض وفى الاخر نرجع نجمعهم زى المكعبات تانى ودا بيسهل علينا بعد كده عملية ال refactoring وال fixing لو فى مشكله فى الكود - هل ال test unit مهمه ؟اه- هل الشركات الكبيره بتكتب unit test ؟ بشكل كبير اه - طب لو الشركه بتاعتى مابنكتبش فيها unit test اعمل ايه ؟ اتعلمه مع نفسك واعمل شوية demos وطبق عليها باستمرار علشان ايدك تاخد عليه علشان لو جاتلك فرصه كويسه فى مكان بيكتب unit test - طب لو عملت join مع شركه بتكتب unit test وانا ماكتبتش قبل كده اعمل ايه ؟ماتقلقش الموضوع ان شاء سهل فى انك تتعلمه ومع الاحتكاك اليومى بيه هتتعلم غصب عنك بس دا مايمنعش انك تجهز نفسك من دلواتة - طب ممكن اترفض فى ال interview لو مابعرفش اكتب unit test؟ ممكن تترفض وممكن لا على حسب البروچكت والوقت بتاعه عاوز تطلع من البوست دا انك تحط فى ال plan بتاعتك انك تذاكر unit test وتجهز نفسكتوضيح بسيط ال manual testدا test بيحصل عادى بالايد اكنى ببعت نسخه تجربيه للمشروع بتاعى لل teater or client ويعملوه تيست انما ال integration and Unit testing فدا بنكتب code بيختبر  ال code اللى كتبانه\n",
      "\n",
      "BOT:  Yes\n",
      "BOT:  No. \n",
      "\n",
      "Reason: The post is about showcasing a completed project and sharing the experience, but it does not mention any hiring opportunities or referrals.\n",
      "\n",
      " 🎉 Proud to Announce the Completion of Android Project: Library Bee! 📚I'm thrilled to share the successful completion of Library Bee, an advanced library management app packed with features to enhance both user and admin experiences. This project was a deep dive into modern Android development and backend integration, and I'm excited to showcase its capabilities.🌟 Key Features of Library Bee:🌗 Light/Dark Modes: Designed for a better UI experience, ensuring readability and comfort in all lighting conditions.👤 Profile Management: Users can create and personalize profiles with pictures, making the app more engaging.📚 Book Recommendations: Powered by a TensorFlow ML model, users receive tailored book recommendations based on their interests.🪑 Seat Selection: Simplifies the complex process of selecting seats, making it intuitive and user-friendly.🔥 Firebase Integration: Efficient data storage and retrieval using Firebase Realtime Database and Firestore, ensuring real-time sync and updates.🔐 Authentication: Secure and seamless user authentication via Firebase Authentication.🗺 Google Maps Integration: Allows users to locate the library and navigate seamlessly with built-in maps.📊 Admin Dashboard: A dedicated dashboard for admin functionalities, offering a clear overview of library operations.👥 User Management: Admins can approve/reject user requests and manage detailed user profiles efficiently.💳 Subscription Management: User subscriptions are handled through a SpringBoot server, ensuring secure and smooth operations.📈 Detailed Overview: Load and monitor user-wise and seat-wise details for better management.🔔 Notifications: Admins can send targeted notifications directly to users' devices using FCM (Firebase Cloud Messaging) service.Github: [https://lnkd.in/e83Rjgb4]🚀 The Journey & What’s Next:Completing Library Bee has been an incredible journey, filled with challenges that pushed my technical boundaries. From integrating cutting-edge machine learning models to building a seamless user interface, every aspect of this project has been a learning experience.I'm eager to continue building innovative solutions that make a real difference. Looking forward to what’s next!hashtag#AndroidDevelopment hashtag#Firebase hashtag#LibraryBee hashtag#AppDevelopment hashtag#MobileInnovation hashtag#Java hashtag#Kotlin hashtag#TensorFlow hashtag#SpringBoot hashtag#GoogleMapsAPI hashtag#TechForGood\n",
      "\n",
      "BOT:  yes\n",
      "BOT:  yes\n",
      "BOT:  Yes\n",
      "BOT:  No. \n",
      "\n",
      "Reason: The required experience is 2-7 years, but you have around 1 year of experience.\n",
      "\n",
      " American Products: Transportation (It's Like Ola, Uber & Rapido in India).Hiring .NET Developer for One of the well renowned American Product based company.Required Experience: 2 to 7 Years.Indian Development Center: Ahmedabad, Gujarat.Job timing: 9:00 AM to 6:00 PM5 Days workingInterested one please share me your resume to hr@bigitjobs.com OR call/whatsapp 6358842793 / 9099144785.hashtag#dotnet hashtag#aspdotnet hashtag#ahmedabadjobs hashtag#developerslife hashtag#bigitjobs\n",
      "\n",
      "BOT:  Yes\n",
      "BOT:  No. \n",
      "\n",
      "Reason: The job description is for a Network Engineer & IT Administrator role, which does not match your interests in software engineer, backend engineer, frontend developer, or full-stack engineer roles.\n",
      "\n",
      " We're Hiring! Join Our Dynamic Team at Ken Research! 🚀Are you ready to take your career to the next level? 🌟 We are seeking passionate and talented individuals to join our growing team of 'Network Engineer & IT Administrator'.If you thrive in a fast-paced environment and are looking for an opportunity to make a real impact, we want to hear from you!Network Engineer & IT Administrator Job DescriptionPosition Overview• Role: Network Engineer & IT Administrator• Location: Ken Research, India• Experience Required: 2-4 yearsPurpose of the RolesThe Network Engineer and IT Administrator positions are cornerstone roles within Ken Research’s IT Department, dedicated to ensuring the integrity, security, and efficiency of the company’s IT infrastructure and services. These roles require a dynamic blend of technical acumen, strategic planning, and operational excellence to support the organization’s technology needs.Key ResponsibilitiesNetwork Engineer Responsibilities1. Network Planning and Design:• Develop and implement a resilient network architecture that supports current and future business needs.• Design and deploy network security measures, including firewalls (e.g., Ruckus, Fortinet, Sophos), intrusion detection systems, and encryption protocols.2. Infrastructure Management:• Oversee the procurement, installation, and maintenance of network hardware and equipment.• Conduct routine hardware and software audits to ensure compliance with established standards and policies.3. Cybersecurity and Compliance:• Lead cybersecurity initiatives, including vulnerability assessments, risk analysis, and the development of disaster recovery plans.• Ensure compliance with data protection regulations, conducting regular compliance audits and updates.4. System Administration:• Manage server configurations, installations, and maintenance across both cloud-based platforms and on-premises data centers.• Oversee the administration of user accounts, permissions, and access control to ensure security and compliance with IT policies.5. Software Management:• Coordinate the selection, deployment, and management of software applications, ensuring they meet the organization’s operational requirements.• Maintain an up-to-date inventory of software licenses, subscriptions, and renewals.6. End-User Support and Training:• Provide comprehensive technical support to end-users, addressing both hardware and software issues promptly.• Develop and deliver IT training programs to staff, enhancing their understanding of systems and applications. 7. Project and Change Management: • Lead IT projects from inception to completion, including system upgrades, migrations, and the deployment of new technologies. • Manage change requests, ensuring minimal disruption to IT services and business operations. Interested Candidate share their cv at jay.sharma@kenresearch.comhashtag#hiring hashtag#ITadmin hashtag#networkenginner hashtag#L1 hashtag#Networkplanning\n",
      "\n",
      "BOT:  Yes\n",
      "BOT:  Yes\n",
      "BOT:  No. \n",
      "\n",
      "Reason: The post is providing tips for junior software developers in a startup, but it does not mention any hiring opportunities or referrals.\n",
      "\n",
      " 𝐣𝐮𝐧𝐢𝐨𝐫 𝐬𝐨𝐟𝐭𝐰𝐚𝐫𝐞 𝐝𝐞𝐯𝐞𝐥𝐨𝐩𝐞𝐫 𝐢𝐧 𝐭𝐡𝐞 𝐬𝐭𝐚𝐫𝐭𝐮𝐩 𝐜𝐨𝐦𝐩𝐚𝐧𝐲...That's exciting! As a junior software developer in a startup, you'll be part of a fast-paced environment where you can learn a lot and make a significant impact. Here are some tips to help you thrive in your role:1.Embrace Learning: Startups often require you to wear many hats, so take this as an opportunity to learn about different aspects of software development and the business.2 Ask Questions: Don't be afraid to ask questions if you don't understand something. It's better to seek clarification than to make assumptions.3 Be Proactive: If you have ideas for improving processes or products, share them with your team. Startups value innovation and initiative.4 Focus on Collaboration: Startups often have small teams, so strong collaboration is crucial. Communicate clearly, be open to feedback, and work closely with your colleagues.5 Stay Flexible: Startups can change direction quickly. Be prepared to adapt to new priorities and shifts in the business landscape.6 Develop Good Coding Practices: Write clean, maintainable code, and follow best practices for code reviews, version control, and testing.7 Understand the Business: Take time to learn about the company's mission, customers, and competitors. This understanding will help you make better technical decisions.8 Build a Network: Connect with other developers in your company and in the broader tech community. Networking can help you learn new skills and find mentors.9 Manage Your Time Wisely: Startups can be intense, so it's important to manage your time effectively. Prioritize tasks and maintain a good work-life balance.10 Be Patient and Persistent: Startups can face challenges, and not everything will go as planned. Stay patient, keep learning, and be persistent in overcoming obstacles.How's your experience going so far? Would you like advice on any specific challenges you're facing?hashtag#softwaredeveloper hashtag#programmer hashtag#developer\n",
      "\n",
      "BOT:  yes.\n"
     ]
    }
   ],
   "source": [
    "shouldSave = input('Do you want to save') \n",
    "if shouldSave == \"yes\" :\n",
    "    print(\"saving the posts\")\n",
    "for post in pending_posts:\n",
    "    isQualified = isRelevant(post[\"feed_text\"], None )\n",
    "    # isQualified = isRelevant(post[\"feed_text\"]) if not isQualified else None\n",
    "    if isQualified :\n",
    "        post[\"status\"] = \"qualified\"\n",
    "        print(post[\"feed_text\"]) if fetchStatus == \"unqualified\" else None;\n",
    "    else :\n",
    "        post[\"status\"] = \"unqualified\"\n",
    "        print(post[\"feed_text\"]) if fetchStatus == \"qualified\" else None;\n",
    "    if shouldSave == \"yes\" :\n",
    "        posts_collection.replace_one({\"_id\": post[\"_id\"]}, post)"
   ]
  },
  {
   "cell_type": "code",
   "execution_count": 10,
   "id": "22edc0de-4968-490a-857a-819cdf2583d3",
   "metadata": {},
   "outputs": [],
   "source": [
    "qualified_posts = list(filter(lambda post: post[\"status\"] == \"qualified\", pending_posts))"
   ]
  },
  {
   "cell_type": "code",
   "execution_count": 11,
   "id": "5f02fee3-d9ef-4f13-9dec-0abc047268f0",
   "metadata": {},
   "outputs": [],
   "source": [
    "for post in qualified_posts:\n",
    "    print(post[\"poster\"] +  \" :  \"  + post[\"poster_bio\"]) \n",
    "    print(\"profile\" , post[\"profile\"]);\n",
    "    print(\"feed_text\" , post[\"feed_text\"])  if post else post\n",
    "    print(\"href\",post[\"href_map\"])\n",
    "    print(\"\\n\")"
   ]
  },
  {
   "cell_type": "code",
   "execution_count": 12,
   "id": "bf27e7eb-37ae-44dc-ae38-a9da5b7a5f80",
   "metadata": {},
   "outputs": [
    {
     "data": {
      "text/plain": [
       "0"
      ]
     },
     "execution_count": 12,
     "metadata": {},
     "output_type": "execute_result"
    }
   ],
   "source": [
    "len(qualified_posts)"
   ]
  },
  {
   "cell_type": "code",
   "execution_count": null,
   "id": "3d9454cb-7063-4e61-b4f4-37fe6199e3a0",
   "metadata": {},
   "outputs": [],
   "source": []
  }
 ],
 "metadata": {
  "kernelspec": {
   "display_name": "Python 3 (ipykernel)",
   "language": "python",
   "name": "python3"
  },
  "language_info": {
   "codemirror_mode": {
    "name": "ipython",
    "version": 3
   },
   "file_extension": ".py",
   "mimetype": "text/x-python",
   "name": "python",
   "nbconvert_exporter": "python",
   "pygments_lexer": "ipython3",
   "version": "3.10.12"
  }
 },
 "nbformat": 4,
 "nbformat_minor": 5
}
