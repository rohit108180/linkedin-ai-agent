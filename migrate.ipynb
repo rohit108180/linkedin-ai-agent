{
 "cells": [
  {
   "cell_type": "code",
   "execution_count": 1,
   "id": "f14e9f0a-3079-42f0-85e9-9bf2064ac9d6",
   "metadata": {},
   "outputs": [
    {
     "name": "stdout",
     "output_type": "stream",
     "text": [
      "Pinged your deployment. You successfully connected to local MongoDB!\n",
      "Pinged your deployment. You successfully connected to cloud MongoDB!\n"
     ]
    }
   ],
   "source": [
    "# SETUP THE MONGO_CONNECTION\n",
    "from pymongo.mongo_client import MongoClient\n",
    "from pymongo.server_api import ServerApi\n",
    "#!pip install ollama\n",
    "import os\n",
    "from dotenv import load_dotenv\n",
    "# Load environment variables from .env file\n",
    "load_dotenv()\n",
    "\n",
    "uri = os.getenv(\"MONGO_URI\") or \"mongodb://localhost:27017\"\n",
    "cloud_uri = os.getenv(\"MONGO_URI\")\n",
    "\n",
    "# Create a new client and connect to the server\n",
    "local = MongoClient(uri, server_api=ServerApi('1'))\n",
    "cloud = MongoClient(cloud_uri, server_api=ServerApi('1'))\n",
    "\n",
    "# Send a ping to confirm a successful connection\n",
    "try:\n",
    "    local.admin.command('ping')\n",
    "    print(\"Pinged your deployment. You successfully connected to local MongoDB!\")\n",
    "    cloud.admin.command(\"ping\")\n",
    "    print(\"Pinged your deployment. You successfully connected to cloud MongoDB!\")\n",
    "except Exception as e:\n",
    "    print(e)"
   ]
  },
  {
   "cell_type": "code",
   "execution_count": 2,
   "id": "4bf95e97-af1f-4c6a-98d4-7ab5ba92f4ba",
   "metadata": {},
   "outputs": [
    {
     "data": {
      "text/plain": [
       "InsertManyResult([ObjectId('66c48c192c9c52093d830117'), ObjectId('66c48c192c9c52093d830118'), ObjectId('66c48c192c9c52093d830119'), ObjectId('66c48c192c9c52093d83011a'), ObjectId('66c48c192c9c52093d83011b'), ObjectId('66c48c192c9c52093d83011c'), ObjectId('66c48c192c9c52093d83011d'), ObjectId('66c48c192c9c52093d83011e'), ObjectId('66c48c192c9c52093d83011f'), ObjectId('66c48c192c9c52093d830120'), ObjectId('66c48c192c9c52093d830121'), ObjectId('66c48c192c9c52093d830122'), ObjectId('66c48c192c9c52093d830123'), ObjectId('66c48c192c9c52093d830124'), ObjectId('66c48c192c9c52093d830125'), ObjectId('66c48c192c9c52093d830126'), ObjectId('66c48c192c9c52093d830127'), ObjectId('66c48c192c9c52093d830128'), ObjectId('66c48c192c9c52093d830129'), ObjectId('66c48c192c9c52093d83012a'), ObjectId('66c48c192c9c52093d83012b'), ObjectId('66c48c192c9c52093d83012c'), ObjectId('66c48c192c9c52093d83012d'), ObjectId('66c48c192c9c52093d83012e'), ObjectId('66c48c192c9c52093d83012f'), ObjectId('66c48c192c9c52093d830130'), ObjectId('66c48d8f2c9c52093d830131'), ObjectId('66c48d8f2c9c52093d830132'), ObjectId('66c48d8f2c9c52093d830133'), ObjectId('66c48d8f2c9c52093d830134'), ObjectId('66c48d8f2c9c52093d830135'), ObjectId('66c48d8f2c9c52093d830136'), ObjectId('66c48d8f2c9c52093d830137'), ObjectId('66c48d8f2c9c52093d830138'), ObjectId('66c48d8f2c9c52093d830139'), ObjectId('66c48d8f2c9c52093d83013a'), ObjectId('66c48d8f2c9c52093d83013b'), ObjectId('66c48d8f2c9c52093d83013c'), ObjectId('66c48d8f2c9c52093d83013d'), ObjectId('66c48d8f2c9c52093d83013e'), ObjectId('66c48d8f2c9c52093d83013f'), ObjectId('66c48d8f2c9c52093d830140'), ObjectId('66c48d8f2c9c52093d830141'), ObjectId('66c48d8f2c9c52093d830142'), ObjectId('66c48d8f2c9c52093d830143'), ObjectId('66c48d8f2c9c52093d830144'), ObjectId('66c48d8f2c9c52093d830145'), ObjectId('66c48d8f2c9c52093d830146'), ObjectId('66c48d8f2c9c52093d830147'), ObjectId('66c48d8f2c9c52093d830148'), ObjectId('66c48d8f2c9c52093d830149'), ObjectId('66c48d8f2c9c52093d83014a'), ObjectId('66c48d8f2c9c52093d83014b'), ObjectId('66c48d8f2c9c52093d83014c'), ObjectId('66c48d8f2c9c52093d83014d'), ObjectId('66c48d8f2c9c52093d83014e'), ObjectId('66c48d8f2c9c52093d83014f'), ObjectId('66c48d8f2c9c52093d830150')], acknowledged=True)"
      ]
     },
     "execution_count": 2,
     "metadata": {},
     "output_type": "execute_result"
    }
   ],
   "source": [
    "db = local[\"linkedin-scrap\"]\n",
    "posts_collection = db[\"posts\"]\n",
    "cloud_posts_collection = cloud[\"posts\"][\"posts\"]\n",
    "cloud_posts_collection.insert_many(posts_collection.find({}))"
   ]
  },
  {
   "cell_type": "code",
   "execution_count": null,
   "id": "56e5e9f5-4c55-4ec5-8519-4fe8830f2274",
   "metadata": {},
   "outputs": [],
   "source": []
  },
  {
   "cell_type": "code",
   "execution_count": null,
   "id": "ebd07f93-1a83-49fd-9c33-9f98db0d6d38",
   "metadata": {},
   "outputs": [],
   "source": []
  }
 ],
 "metadata": {
  "kernelspec": {
   "display_name": "Python 3 (ipykernel)",
   "language": "python",
   "name": "python3"
  },
  "language_info": {
   "codemirror_mode": {
    "name": "ipython",
    "version": 3
   },
   "file_extension": ".py",
   "mimetype": "text/x-python",
   "name": "python",
   "nbconvert_exporter": "python",
   "pygments_lexer": "ipython3",
   "version": "3.10.12"
  }
 },
 "nbformat": 4,
 "nbformat_minor": 5
}
